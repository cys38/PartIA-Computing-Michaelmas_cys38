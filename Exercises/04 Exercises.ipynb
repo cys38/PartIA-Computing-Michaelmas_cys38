{
 "cells": [
  {
   "cell_type": "markdown",
   "metadata": {
    "deletable": false,
    "editable": false,
    "nbgrader": {
     "grade": false,
     "grade_id": "cell-0dc6eedbed930025",
     "locked": true,
     "schema_version": 3,
     "solution": false
    }
   },
   "source": [
    "## Exercise 04.1 (simple function)\n",
    "\n",
    "Write a function called `is_even` which takes an integer as an argument and returns `True` if the argument is even, and otherwise returns `False`. Test your function for several values."
   ]
  },
  {
   "cell_type": "code",
   "execution_count": 42,
   "metadata": {
    "nbgrader": {
     "grade": false,
     "grade_id": "cell-f07e8ac1f9838913",
     "locked": false,
     "schema_version": 3,
     "solution": true
    },
    "tags": [
     "otter_answer_cell"
    ]
   },
   "outputs": [
    {
     "name": "stdout",
     "output_type": "stream",
     "text": [
      "False\n",
      "True\n",
      "True\n",
      "False\n",
      "False\n"
     ]
    }
   ],
   "source": [
    "def is_even(x):\n",
    "    return(x % 2 == 0)\n",
    "    \n",
    "print(is_even(3))\n",
    "print(is_even(4))\n",
    "print(is_even(8))\n",
    "print(is_even(23))\n",
    "print(is_even(63))"
   ]
  },
  {
   "cell_type": "code",
   "execution_count": 43,
   "metadata": {
    "deletable": false,
    "editable": false,
    "nbgrader": {
     "grade": true,
     "grade_id": "cell-8a4ca795d9fa96dd",
     "locked": true,
     "points": 0,
     "schema_version": 3,
     "solution": false
    }
   },
   "outputs": [],
   "source": [
    "## tests ##\n",
    "assert is_even(0) == True\n",
    "assert is_even(101) == False\n",
    "assert is_even(982) == True \n",
    "assert is_even(-5) == False\n",
    "assert is_even(-8) == True"
   ]
  },
  {
   "cell_type": "markdown",
   "metadata": {
    "deletable": false,
    "editable": false,
    "nbgrader": {
     "grade": false,
     "grade_id": "cell-5ff5517961853849",
     "locked": true,
     "schema_version": 3,
     "solution": false
    }
   },
   "source": [
    "## Exercise 04.2 (functions and default arguments)\n",
    "\n",
    "Write a single function named `magnitude` that takes each component of a vector of length 2 or 3 and returns the magnitude.\n",
    "Use default arguments to handle vectors of length 2 or 3 with the same code. Test your function for correctness against hand calculations for a selection of values."
   ]
  },
  {
   "cell_type": "code",
   "execution_count": 12,
   "metadata": {
    "nbgrader": {
     "grade": false,
     "grade_id": "cell-693a09b45c6bb532",
     "locked": false,
     "schema_version": 3,
     "solution": true
    },
    "tags": [
     "otter_answer_cell"
    ]
   },
   "outputs": [
    {
     "name": "stdout",
     "output_type": "stream",
     "text": [
      "2D vectors:\n",
      "magnitude(3, 4) = 5.0  (hand-calculated 5.0)\n",
      "magnitude(5, 12) = 13.0  (hand-calculated 13.0)\n",
      "magnitude(1, 1) = 1.4142135623730951  (hand-calculated 2**(1/2))\n",
      "\n",
      "3D vectors:\n",
      "magnitude(1, 2, 2) = 3.0  (hand-calculated 3.0)\n",
      "magnitude(2, 3, 6) = 7.0  (hand-calculated 7.0)\n",
      "magnitude(0, 0, 5) = 5.0  (hand-calculated 5.0)\n"
     ]
    }
   ],
   "source": [
    "import math\n",
    "\n",
    "import math\n",
    "\n",
    "def magnitude(x, y, z=0):\n",
    "    \n",
    "    return math.sqrt(x**2 + y**2 + z**2)\n",
    "\n",
    "# 2D vectors\n",
    "print(\"2D vectors:\")\n",
    "print(f\"magnitude(3, 4) = {magnitude(3, 4)}  (hand-calculated 5.0)\")\n",
    "print(f\"magnitude(5, 12) = {magnitude(5, 12)}  (hand-calculated 13.0)\")\n",
    "print(f\"magnitude(1, 1) = {magnitude(1, 1)}  (hand-calculated 2**(1/2))\")\n",
    "\n",
    "# 3D vectors\n",
    "print(\"\\n3D vectors:\")\n",
    "print(f\"magnitude(1, 2, 2) = {magnitude(1, 2, 2)}  (hand-calculated 3.0)\")\n",
    "print(f\"magnitude(2, 3, 6) = {magnitude(2, 3, 6)}  (hand-calculated 7.0)\")\n",
    "print(f\"magnitude(0, 0, 5) = {magnitude(0, 0, 5)}  (hand-calculated 5.0)\")\n"
   ]
  },
  {
   "cell_type": "code",
   "execution_count": null,
   "metadata": {
    "deletable": false,
    "editable": false,
    "nbgrader": {
     "grade": true,
     "grade_id": "cell-384a85ba97b226d7",
     "locked": true,
     "points": 0,
     "schema_version": 3,
     "solution": false
    }
   },
   "outputs": [],
   "source": [
    "## tests ##\n",
    "assert math.isclose(magnitude(3, 4), 5.0)\n",
    "assert math.isclose(magnitude(4, 3), 5.0)\n",
    "assert math.isclose(magnitude(4, 3, 0.0), 5.0)\n",
    "assert math.isclose(magnitude(4, 0.0, 3.0), 5.0)\n",
    "assert math.isclose(magnitude(3, 4, 4), 6.403124237)"
   ]
  },
  {
   "cell_type": "markdown",
   "metadata": {
    "deletable": false,
    "editable": false,
    "nbgrader": {
     "grade": false,
     "grade_id": "cell-668d765c259431ca",
     "locked": true,
     "schema_version": 3,
     "solution": false
    }
   },
   "source": [
    "## Exercise 04.3 (functions)\n",
    "\n",
    "Given the coordinates of the vertices of a triangle, $(x_0, y_0)$, $(x_1, y_1)$ and $(x_2, y_2)$, the area $A$ of the triangle is given by:\n",
    "$$\n",
    "A = \\left| \\frac{x_0(y_1  - y_2) + x_1(y_2 - y_0) + x_2(y_0 - y_1)}{2} \\right|\n",
    "$$\n",
    "Write a function named `area` that computes the area of a triangle given the coordinates of the vertices.\n",
    "The order of the function arguments must be (`x0, y0, x1, y1, x2, y2)`.\n",
    "\n",
    "Test the output of your function against some known solutions."
   ]
  },
  {
   "cell_type": "code",
   "execution_count": 18,
   "metadata": {
    "nbgrader": {
     "grade": false,
     "grade_id": "cell-ed02439d4509b2c1",
     "locked": false,
     "schema_version": 3,
     "solution": true
    },
    "tags": [
     "otter_answer_cell"
    ]
   },
   "outputs": [
    {
     "name": "stdout",
     "output_type": "stream",
     "text": [
      "2472.0\n"
     ]
    }
   ],
   "source": [
    "def area(x0, y0, x1, y1, x2, y2):\n",
    "    return (x0*(y1-y2) + x1*(y2-y0) + x2*(y0-y1))/2\n",
    "\n",
    "print(area(1, 56, 3, 4, 98, 6))"
   ]
  },
  {
   "cell_type": "code",
   "execution_count": null,
   "metadata": {
    "deletable": false,
    "editable": false,
    "nbgrader": {
     "grade": true,
     "grade_id": "cell-64f8b6708595aed3",
     "locked": true,
     "points": 0,
     "schema_version": 3,
     "solution": false
    }
   },
   "outputs": [],
   "source": [
    "## tests ##\n",
    "x0, y0 = 0.0, 0.0\n",
    "x1, y1 = 0.0, 2.0\n",
    "x2, y2 = 3.0, 0.0\n",
    "A = area(x0, y0, x1, y1, x2, y2)\n",
    "assert math.isclose(A, 3.0)"
   ]
  },
  {
   "cell_type": "markdown",
   "metadata": {
    "deletable": false,
    "editable": false,
    "nbgrader": {
     "grade": false,
     "grade_id": "cell-45e85991122d3796",
     "locked": true,
     "schema_version": 3,
     "solution": false
    }
   },
   "source": [
    "## Exercise 04.4 (recursion)\n",
    "\n",
    "The factorial of a non-negative integer $n$ is expressed recursively by:\n",
    "$$\n",
    "n! = \n",
    "\\begin{cases}\n",
    "1 & n = 0 \\\\\n",
    "(n - 1)! \\,n & n > 0\n",
    "\\end{cases}\n",
    "$$\n",
    "\n",
    "Develop a function named `factorial` for computing the factorial using recursion.\n",
    "Test your function against the `math.factorial` function, e.g."
   ]
  },
  {
   "cell_type": "code",
   "execution_count": null,
   "metadata": {
    "deletable": false,
    "editable": false,
    "nbgrader": {
     "grade": false,
     "grade_id": "cell-680d3c06fd6b37a7",
     "locked": true,
     "schema_version": 3,
     "solution": false
    }
   },
   "outputs": [],
   "source": [
    "import math\n",
    "print(\"Reference factorial:\", math.factorial(5))"
   ]
  },
  {
   "cell_type": "code",
   "execution_count": 24,
   "metadata": {
    "nbgrader": {
     "grade": false,
     "grade_id": "cell-9591c1fc1c49c167",
     "locked": false,
     "schema_version": 3,
     "solution": true
    },
    "tags": [
     "otter_answer_cell"
    ]
   },
   "outputs": [
    {
     "name": "stdout",
     "output_type": "stream",
     "text": [
      "Factorial of 5: 120\n",
      "Reference value of factorial of 5: 120\n"
     ]
    }
   ],
   "source": [
    "def factorial(n):\n",
    "    if n == 0:\n",
    "        return 1\n",
    "    else:\n",
    "        return n * factorial(n - 1)\n",
    "    \n",
    "print(\"Factorial of 5:\", factorial(5))\n",
    "\n",
    "import math\n",
    "print(\"Reference value of factorial of 5:\", math.factorial(5))"
   ]
  },
  {
   "cell_type": "code",
   "execution_count": null,
   "metadata": {
    "deletable": false,
    "editable": false,
    "nbgrader": {
     "grade": true,
     "grade_id": "cell-ffe589e9fb2f1419",
     "locked": true,
     "points": 0,
     "schema_version": 3,
     "solution": false
    }
   },
   "outputs": [],
   "source": [
    "## tests ##\n",
    "assert factorial(0) == 1\n",
    "assert factorial(1) == 1\n",
    "assert factorial(2) == 2\n",
    "assert factorial(5) == 120\n",
    "\n",
    "import math\n",
    "assert factorial(32) == math.factorial(32)"
   ]
  },
  {
   "cell_type": "markdown",
   "metadata": {
    "deletable": false,
    "editable": false
   },
   "source": [
    "## Exercise 04.5 (functions and passing functions as arguments)\n",
    "\n",
    "Restructure your program from the bisection problem in Exercise 02 to \n",
    "\n",
    "- Use a Python function to evaluate the mathematical function $f$ that we want to find the root of; \n",
    "\n",
    "and then\n",
    "\n",
    "- Encapsulate the bisection algorithm inside a Python function, which takes as arguments:\n",
    "  1. the function we want to find the roots of\n",
    "  1. the points $x_{0}$ and $x_{1}$ between which we want to search for a root\n",
    "  1. the tolerance for exiting the bisection algorithm (exit when $|f(x)| < \\text{tol}$)\n",
    "  1. maximum number of iterations (the algorithm should exit once this limit is reached)\n",
    "\n",
    "For the first step, create a Python function for evaluating $f$, e.g.:\n",
    "```python\n",
    "def f(x):\n",
    "    # Put body of the function f(x) here, returning the function value\n",
    "```           \n",
    "For the second step, encapsulate the bisection algorithm in a function:\n",
    "```python\n",
    "def compute_root(f, x0, x1, tol, max_it):\n",
    "\n",
    "    # Implement bisection algorithm here, and return when tolerance is satisfied or\n",
    "    # number of iterations exceeds max_it\n",
    "\n",
    "    # Return the approximate root, value of f(x) and the number of iterations\n",
    "    return x, f, num_it\n",
    "\n",
    "# Compute approximate root of the function f\n",
    "x, f_x, num_it = compute_root(f, x0=0, x1=1, tol=1.0e-6, max_it=1000)\n",
    "```\n",
    "\n",
    "You can try testing your program for a function $f(x)$ that is simpler from the function Exercise 02, e.g. $f(x) = x - 4$. \n",
    "A quadratic function, the roots of which you can find analytically, would be a good test case."
   ]
  },
  {
   "cell_type": "markdown",
   "metadata": {
    "deletable": false,
    "editable": false
   },
   "source": [
    "### Solution\n",
    "\n",
    "Define the function for computing $f(x)$:"
   ]
  },
  {
   "cell_type": "code",
   "execution_count": 35,
   "metadata": {
    "nbgrader": {
     "grade": false,
     "grade_id": "cell-a9cacdc8d223e7a4",
     "locked": true,
     "schema_version": 3,
     "solution": false
    },
    "tags": [
     "otter_answer_cell"
    ]
   },
   "outputs": [],
   "source": [
    "def my_f(x):\n",
    "    \"\"\"Evaluate polynomial function\"\"\"\n",
    "    return x**5 / 10 + x**3 - 10 * x**2 + 4 * x + 7"
   ]
  },
  {
   "cell_type": "code",
   "execution_count": 58,
   "metadata": {
    "nbgrader": {
     "grade": false,
     "grade_id": "cell-622edcb129dcc7f2",
     "locked": false,
     "schema_version": 3,
     "solution": true
    },
    "tags": [
     "otter_answer_cell"
    ]
   },
   "outputs": [
    {
     "ename": "NameError",
     "evalue": "name 'f' is not defined",
     "output_type": "error",
     "traceback": [
      "\u001b[31m---------------------------------------------------------------------------\u001b[39m",
      "\u001b[31mNameError\u001b[39m                                 Traceback (most recent call last)",
      "\u001b[36mCell\u001b[39m\u001b[36m \u001b[39m\u001b[32mIn[58]\u001b[39m\u001b[32m, line 32\u001b[39m\n\u001b[32m     26\u001b[39m         \u001b[38;5;28mprint\u001b[39m(counter, x_mid, error)\n\u001b[32m     30\u001b[39m     \u001b[38;5;28;01mreturn\u001b[39;00m x_mid, f, max_it\n\u001b[32m---> \u001b[39m\u001b[32m32\u001b[39m compute_root(\u001b[43mf\u001b[49m, x0=\u001b[32m0\u001b[39m, x1=\u001b[32m1\u001b[39m, tol=\u001b[32m1.0e-6\u001b[39m, max_it=\u001b[32m1000\u001b[39m)\n",
      "\u001b[31mNameError\u001b[39m: name 'f' is not defined"
     ]
    }
   ],
   "source": [
    "# Create the function that performs the bisection:\n",
    "def compute_root(f, x0, x1, tol, max_it):\n",
    "    x0 = 0.0\n",
    "    x1 = 2.0\n",
    "    tol = 1.0e-6\n",
    "    error = tol + 1.0\n",
    "    counter = 0\n",
    "    while error > tol:\n",
    "    # Midpoint\n",
    "        x_mid = (x0 + x1) / 2.0\n",
    "        # Evaluate f at left endpoint and midpoint\n",
    "        f0 = (x0**5) / 10.0 + x0**3 - 10.0 * x0**2 + 4.0 * x0 + 7.0\n",
    "        f  = (x_mid**5) / 10.0 + x_mid**3 - 10.0 * x_mid**2 + 4.0 * x_mid + 7.0\n",
    "        # Update bracket based on sign change\n",
    "        if f0 * f < 0:\n",
    "            x1 = x_mid\n",
    "        else:\n",
    "            x0 = x_mid\n",
    "            # Error is |f(x_mid)|\n",
    "            error = abs(f)\n",
    "        counter += 1\n",
    "            # Guard against infinite loop\n",
    "        if counter > 1000:\n",
    "            print(\"Oops, iteration count is very large. Breaking out of while loop.\")\n",
    "            break\n",
    "        print(counter, x_mid, error)\n",
    "\n",
    "    \n",
    "     \n",
    "    return x_mid, f, max_it\n",
    "\n",
    "compute_root(f, x0=0, x1=1, tol=1.0e-6, max_it=1000)"
   ]
  },
  {
   "cell_type": "code",
   "execution_count": 49,
   "metadata": {
    "deletable": false,
    "editable": false,
    "nbgrader": {
     "grade": true,
     "grade_id": "cell-cb5a5cdf1d790edb",
     "locked": true,
     "points": 0,
     "schema_version": 3,
     "solution": false
    }
   },
   "outputs": [
    {
     "ename": "TypeError",
     "evalue": "compute_root() got multiple values for argument 'x0'",
     "output_type": "error",
     "traceback": [
      "\u001b[31m---------------------------------------------------------------------------\u001b[39m",
      "\u001b[31mTypeError\u001b[39m                                 Traceback (most recent call last)",
      "\u001b[36mCell\u001b[39m\u001b[36m \u001b[39m\u001b[32mIn[49]\u001b[39m\u001b[32m, line 3\u001b[39m\n\u001b[32m      1\u001b[39m \u001b[38;5;66;03m## tests ##\u001b[39;00m\n\u001b[32m----> \u001b[39m\u001b[32m3\u001b[39m x, f, num_it = \u001b[43mcompute_root\u001b[49m\u001b[43m(\u001b[49m\u001b[43mmy_f\u001b[49m\u001b[43m,\u001b[49m\u001b[43m \u001b[49m\u001b[43mx0\u001b[49m\u001b[43m=\u001b[49m\u001b[32;43m0\u001b[39;49m\u001b[43m,\u001b[49m\u001b[43m \u001b[49m\u001b[43mx1\u001b[49m\u001b[43m=\u001b[49m\u001b[32;43m2\u001b[39;49m\u001b[43m,\u001b[49m\u001b[43m \u001b[49m\u001b[43mtol\u001b[49m\u001b[43m=\u001b[49m\u001b[32;43m1.0e-6\u001b[39;49m\u001b[43m,\u001b[49m\u001b[43m \u001b[49m\u001b[43mmax_it\u001b[49m\u001b[43m=\u001b[49m\u001b[32;43m1000\u001b[39;49m\u001b[43m)\u001b[49m\n\u001b[32m      5\u001b[39m \u001b[38;5;66;03m# Test solution for function in Exercise 02\u001b[39;00m\n\u001b[32m      6\u001b[39m \u001b[38;5;28;01massert\u001b[39;00m math.isclose(x, \u001b[32m1.1568354368209839\u001b[39m)\n",
      "\u001b[31mTypeError\u001b[39m: compute_root() got multiple values for argument 'x0'"
     ]
    }
   ],
   "source": [
    "## tests ##\n",
    "\n",
    "x, f, num_it = compute_root(my_f, x0=0, x1=2, tol=1.0e-6, max_it=1000)\n",
    "\n",
    "# Test solution for function in Exercise 02\n",
    "assert math.isclose(x, 1.1568354368209839)"
   ]
  },
  {
   "cell_type": "markdown",
   "metadata": {
    "deletable": false,
    "editable": false
   },
   "source": [
    "#### Optional extension\n",
    "\n",
    "Use recursion to write a `compute_root` function that *does not* require a `for` or `while` loop."
   ]
  },
  {
   "cell_type": "code",
   "execution_count": null,
   "metadata": {
    "nbgrader": {
     "grade": false,
     "grade_id": "cell-c944bb2229317d4d",
     "locked": false,
     "schema_version": 3,
     "solution": true
    },
    "tags": [
     "otter_answer_cell"
    ]
   },
   "outputs": [],
   "source": [
    "def compute_root(f, x0, x1, tol, max_it, it_count=0):\n",
    "    ...\n",
    "    \n",
    "    # Call compute_root recursively\n",
    "    return compute_root(f, x0, x1, tol, max_it, it_count)"
   ]
  },
  {
   "cell_type": "code",
   "execution_count": null,
   "metadata": {
    "deletable": false,
    "editable": false,
    "nbgrader": {
     "grade": true,
     "grade_id": "cell-9ebe2f13b2899a8f",
     "locked": true,
     "points": 0,
     "schema_version": 3,
     "solution": false
    }
   },
   "outputs": [],
   "source": [
    "## tests ##\n",
    "x, f, num_it = compute_root(my_f, x0=0, x1=2, tol=1.0e-6, max_it=1000)\n",
    "assert math.isclose(x, 1.1568354368209839)"
   ]
  }
 ],
 "metadata": {
  "celltoolbar": "Create Assignment",
  "kernelspec": {
   "display_name": "Python 3 (ipykernel)",
   "language": "python",
   "name": "python3"
  },
  "language_info": {
   "codemirror_mode": {
    "name": "ipython",
    "version": 3
   },
   "file_extension": ".py",
   "mimetype": "text/x-python",
   "name": "python",
   "nbconvert_exporter": "python",
   "pygments_lexer": "ipython3",
   "version": "3.12.3"
  },
  "otter": {
   "OK_FORMAT": true,
   "assignment_name": "Exercises 4",
   "tests": {}
  }
 },
 "nbformat": 4,
 "nbformat_minor": 4
}
